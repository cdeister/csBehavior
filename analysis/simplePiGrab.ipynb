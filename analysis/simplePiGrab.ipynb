{
 "cells": [
  {
   "cell_type": "code",
   "execution_count": 2,
   "metadata": {},
   "outputs": [],
   "source": [
    "import numpy as np\n",
    "import cv2\n",
    "import matplotlib.pyplot as plt\n",
    "import matplotlib.image as mpimg\n",
    "import scipy.io"
   ]
  },
  {
   "cell_type": "code",
   "execution_count": 3,
   "metadata": {},
   "outputs": [],
   "source": [
    "videoPath = '/Users/cad/Downloads/video20190726110852.h264'\n",
    "basePath = '/Users/cad/Dropbox/vidwh/video20190726110852/'\n"
   ]
  },
  {
   "cell_type": "code",
   "execution_count": 4,
   "metadata": {},
   "outputs": [],
   "source": [
    "cap = cv2.VideoCapture(videoPath)"
   ]
  },
  {
   "cell_type": "code",
   "execution_count": 5,
   "metadata": {
    "scrolled": true
   },
   "outputs": [
    {
     "name": "stdout",
     "output_type": "stream",
     "text": [
      "w=640, h=480, fps=90.00225225225225\n"
     ]
    }
   ],
   "source": [
    "width = int(cap.get(cv2.CAP_PROP_FRAME_WIDTH))\n",
    "height = int(cap.get(cv2.CAP_PROP_FRAME_HEIGHT))\n",
    "fps    = cap.get(cv2.CAP_PROP_FPS)\n",
    "print(\"w={}, h={}, fps={}\".format(width,height,fps))"
   ]
  },
  {
   "cell_type": "code",
   "execution_count": 6,
   "metadata": {},
   "outputs": [],
   "source": [
    "# count frames and get timestamps\n",
    "aa=[]\n",
    "bb=[]\n",
    "# cc=[]\n",
    "count=0\n",
    "while True:\n",
    "    (grabbed, frame) = cap.read()\n",
    "    if not grabbed:\n",
    "        break\n",
    "    aa.append(cap.get(cv2.CAP_PROP_POS_MSEC))\n",
    "#     bb.append(np.mean(frame[:,:,1]))\n",
    "# #     cc.append(np.mean(frame[671:691,769:821]))\n",
    "    count+=1\n",
    "    cv2.imwrite(basePath + \"test_{}.tif\".format(count),frame[:,:,1])\n",
    "tStamps = np.array(aa)\n",
    "scipy.io.savemat(basePath + '/tStamps.mat',mdict={'tStamps': tStamps})"
   ]
  }
 ],
 "metadata": {
  "kernelspec": {
   "display_name": "Python 3",
   "language": "python",
   "name": "python3"
  },
  "language_info": {
   "codemirror_mode": {
    "name": "ipython",
    "version": 3
   },
   "file_extension": ".py",
   "mimetype": "text/x-python",
   "name": "python",
   "nbconvert_exporter": "python",
   "pygments_lexer": "ipython3",
   "version": "3.7.1"
  }
 },
 "nbformat": 4,
 "nbformat_minor": 2
}
