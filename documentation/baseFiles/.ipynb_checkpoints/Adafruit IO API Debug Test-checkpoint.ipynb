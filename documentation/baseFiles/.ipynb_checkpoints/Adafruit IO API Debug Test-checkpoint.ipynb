{
 "cells": [
  {
   "cell_type": "markdown",
   "metadata": {},
   "source": [
    "# Testing Adafruit IO API\n",
    "#### https://adafruit-io-python-client.readthedocs.io/en/latest/index.html"
   ]
  },
  {
   "cell_type": "code",
   "execution_count": 62,
   "metadata": {},
   "outputs": [],
   "source": [
    "import datetime\n",
    "from Adafruit_IO import *"
   ]
  },
  {
   "cell_type": "code",
   "execution_count": 84,
   "metadata": {},
   "outputs": [],
   "source": [
    "import pandas as pd"
   ]
  },
  {
   "cell_type": "code",
   "execution_count": 63,
   "metadata": {},
   "outputs": [],
   "source": [
    "dStamp=datetime.datetime.now().strftime(\"%m_%d_%Y\")\n",
    "hashPath = '/Users/cad/simpHashes/csIO.txt'"
   ]
  },
  {
   "cell_type": "code",
   "execution_count": 64,
   "metadata": {},
   "outputs": [],
   "source": [
    "def connect_REST(hashPath):\n",
    "    simpHash=open(hashPath)\n",
    "    a=list(simpHash)\n",
    "    userName = a[0].strip()\n",
    "    apiKey = a[1]\n",
    "    restClient = Client(userName,apiKey)\n",
    "    return restClient\n",
    "    \n",
    "def connect_MQTT(hashPath):\n",
    "    simpHash=open(hashPath)\n",
    "    a=list(simpHash)\n",
    "    userName = a[0].strip()\n",
    "    apiKey = a[1]\n",
    "    mqttClient = MQTTClient(userName,apiKey)\n",
    "    return mqttClient"
   ]
  },
  {
   "cell_type": "code",
   "execution_count": 65,
   "metadata": {},
   "outputs": [],
   "source": [
    "aio=connect_REST(hashPath)"
   ]
  },
  {
   "cell_type": "code",
   "execution_count": 66,
   "metadata": {},
   "outputs": [],
   "source": [
    "# check all the feeds\n",
    "# This will make a list of all feeds.\n",
    "allFeeds = aio.feeds()"
   ]
  },
  {
   "cell_type": "code",
   "execution_count": 67,
   "metadata": {},
   "outputs": [
    {
     "name": "stdout",
     "output_type": "stream",
     "text": [
      "[Feed(name='rig-cadbook', key='rig-cadbook', description=None, unit_type=None, unit_symbol=None, history=True, visibility='private', license=None, status_notify=False, status_timeout=60), Feed(name='cad-rig', key='cad-rig', description=None, unit_type=None, unit_symbol=None, history=True, visibility='private', license=None, status_notify=False, status_timeout=60), Feed(name='cad-waterconsumed', key='cad-waterconsumed', description=None, unit_type=None, unit_symbol=None, history=True, visibility='private', license=None, status_notify=False, status_timeout=60), Feed(name='cad-topvol', key='cad-topvol', description=None, unit_type=None, unit_symbol=None, history=True, visibility='private', license=None, status_notify=False, status_timeout=60), Feed(name='cad-weight', key='cad-weight', description=None, unit_type=None, unit_symbol=None, history=True, visibility='private', license=None, status_notify=False, status_timeout=60), Feed(name='cad2-rig', key='cad2-rig', description=None, unit_type=None, unit_symbol=None, history=True, visibility='private', license=None, status_notify=False, status_timeout=60), Feed(name='cad2-waterconsumed', key='cad2-waterconsumed', description=None, unit_type=None, unit_symbol=None, history=True, visibility='private', license=None, status_notify=False, status_timeout=60), Feed(name='cad2-topvol', key='cad2-topvol', description=None, unit_type=None, unit_symbol=None, history=True, visibility='private', license=None, status_notify=False, status_timeout=60), Feed(name='cad2-weight', key='cad2-weight', description=None, unit_type=None, unit_symbol=None, history=True, visibility='private', license=None, status_notify=False, status_timeout=60), Feed(name='newFeed', key='newfeed', description=None, unit_type=None, unit_symbol=None, history=True, visibility='private', license=None, status_notify=False, status_timeout=60)]\n"
     ]
    }
   ],
   "source": [
    "print(allFeeds)"
   ]
  },
  {
   "cell_type": "code",
   "execution_count": 68,
   "metadata": {},
   "outputs": [
    {
     "name": "stdout",
     "output_type": "stream",
     "text": [
      "['rig-cadbook', 'cad-rig', 'cad-waterconsumed', 'cad-topvol', 'cad-weight', 'cad2-rig', 'cad2-waterconsumed', 'cad2-topvol', 'cad2-weight', 'newFeed']\n"
     ]
    }
   ],
   "source": [
    "feedList = []\n",
    "for things in allFeeds:\n",
    "    feedList.append(things.name)\n",
    "print(feedList)"
   ]
  },
  {
   "cell_type": "code",
   "execution_count": 40,
   "metadata": {},
   "outputs": [
    {
     "name": "stdout",
     "output_type": "stream",
     "text": [
      "Feed(name='cad-rig', key='cad-rig', description=None, unit_type=None, unit_symbol=None, history=True, visibility='private', license=None, status_notify=False, status_timeout=60)\n"
     ]
    }
   ],
   "source": [
    "# let's see what a feed's metadata contains.\n",
    "print(allFeeds[1])"
   ]
  },
  {
   "cell_type": "markdown",
   "metadata": {},
   "source": [
    "#### The name is needed to create the feed, but the key is how it is addressed later. By default, the API will respect formating of text, but not the key. So, keep this in mind. "
   ]
  },
  {
   "cell_type": "code",
   "execution_count": 41,
   "metadata": {},
   "outputs": [
    {
     "name": "stdout",
     "output_type": "stream",
     "text": [
      "Feed(name='cad-rig', key='cad-rig', description=None, unit_type=None, unit_symbol=None, history=True, visibility='private', license=None, status_notify=False, status_timeout=60)\n"
     ]
    }
   ],
   "source": [
    "thisFeed = aio.feeds('cad-rig')\n",
    "print(thisFeed)"
   ]
  },
  {
   "cell_type": "code",
   "execution_count": 42,
   "metadata": {},
   "outputs": [],
   "source": [
    "# lets create a feed with an uppercase char, this is ok\n",
    "feedName = \"asciiFeed\"\n",
    "feed = Feed(feedName)\n",
    "createResult = aio.create_feed(feed)"
   ]
  },
  {
   "cell_type": "code",
   "execution_count": 43,
   "metadata": {},
   "outputs": [
    {
     "name": "stdout",
     "output_type": "stream",
     "text": [
      "Feed(name='asciiFeed', key='asciifeed', description=None, unit_type=None, unit_symbol=None, history=True, visibility='private', license=None, status_notify=False, status_timeout=60)\n"
     ]
    }
   ],
   "source": [
    "print(createResult)"
   ]
  },
  {
   "cell_type": "code",
   "execution_count": 45,
   "metadata": {},
   "outputs": [
    {
     "name": "stdout",
     "output_type": "stream",
     "text": [
      "Feed(name='asciiFeed', key='asciifeed', description=None, unit_type=None, unit_symbol=None, history=True, visibility='private', license=None, status_notify=False, status_timeout=60)\n"
     ]
    }
   ],
   "source": [
    "# but to access it, we have to ask for lowercase only, because note above the key is lowercase\n",
    "thisFeed = aio.feeds(feedName.lower())\n",
    "print(thisFeed)"
   ]
  },
  {
   "cell_type": "code",
   "execution_count": 46,
   "metadata": {},
   "outputs": [],
   "source": [
    "# now let's delete the feed\n",
    "feed = aio.delete_feed(feedName.lower())"
   ]
  },
  {
   "cell_type": "code",
   "execution_count": 69,
   "metadata": {},
   "outputs": [],
   "source": [
    "# now let's get a feed's data\n",
    "allData = aio.data('cad-waterconsumed')"
   ]
  },
  {
   "cell_type": "code",
   "execution_count": 70,
   "metadata": {},
   "outputs": [
    {
     "data": {
      "text/plain": [
       "[Data(created_epoch=1541074185, created_at='2018-11-01T12:09:45Z', updated_at=None, value='0.0023', completed_at=None, feed_id=900018, expiration='2018-12-31T12:09:45Z', position=None, id='0E0GBWPMZ6P21VPNKV1KB4Q75N', lat=None, lon=None, ele=None),\n",
       " Data(created_epoch=1541072640, created_at='2018-11-01T11:44:00Z', updated_at=None, value='0.1191', completed_at=None, feed_id=900018, expiration='2018-12-31T11:44:00Z', position=None, id='0E0GBDZ583SP522Y1YN2QCS1P0', lat=None, lon=None, ele=None),\n",
       " Data(created_epoch=1541072481, created_at='2018-11-01T11:41:21Z', updated_at=None, value='0.1123', completed_at=None, feed_id=900018, expiration='2018-12-31T11:41:21Z', position=None, id='0E0GBCEJ0T5YKBX8YEEB8CHYAW', lat=None, lon=None, ele=None),\n",
       " Data(created_epoch=1541072315, created_at='2018-11-01T11:38:35Z', updated_at=None, value='0.1077', completed_at=None, feed_id=900018, expiration='2018-12-31T11:38:35Z', position=None, id='0E0GBAVZWN6CSAX40V3Q3TDS92', lat=None, lon=None, ele=None),\n",
       " Data(created_epoch=1541072202, created_at='2018-11-01T11:36:42Z', updated_at=None, value='0.1031', completed_at=None, feed_id=900018, expiration='2018-12-31T11:36:42Z', position=None, id='0E0GB9SDRPR416W374WH10H8BS', lat=None, lon=None, ele=None),\n",
       " Data(created_epoch=1541033777, created_at='2018-11-01T00:56:17Z', updated_at=None, value='0.0894', completed_at=None, feed_id=900018, expiration='2018-12-31T00:56:17Z', position=None, id='0E0FZVAY072EEA2J9HFCWAVAD1', lat=None, lon=None, ele=None),\n",
       " Data(created_epoch=1541032876, created_at='2018-11-01T00:41:16Z', updated_at=None, value='0.0504', completed_at=None, feed_id=900018, expiration='2018-12-31T00:41:16Z', position=None, id='0E0FZJQYM5PGTEX4666RPASBH9', lat=None, lon=None, ele=None),\n",
       " Data(created_epoch=1541032393, created_at='2018-11-01T00:33:13Z', updated_at=None, value='0.0436', completed_at=None, feed_id=900018, expiration='2018-12-31T00:33:13Z', position=None, id='0E0FZE4HY8KM3XJD29Z4QMH7GM', lat=None, lon=None, ele=None),\n",
       " Data(created_epoch=1541032339, created_at='2018-11-01T00:32:19Z', updated_at=None, value='0.039', completed_at=None, feed_id=900018, expiration='2018-12-31T00:32:19Z', position=None, id='0E0FZDM16JA5FRSZJ37TJTCY68', lat=None, lon=None, ele=None),\n",
       " Data(created_epoch=1541032273, created_at='2018-11-01T00:31:13Z', updated_at=None, value='0.039', completed_at=None, feed_id=900018, expiration='2018-12-31T00:31:13Z', position=None, id='0E0FZD02N9EKWF56N24QN9MB6T', lat=None, lon=None, ele=None),\n",
       " Data(created_epoch=1541032057, created_at='2018-11-01T00:27:37Z', updated_at=None, value='0.0368', completed_at=None, feed_id=900018, expiration='2018-12-31T00:27:37Z', position=None, id='0E0FZAY6TG4RHK768CXG5S5T56', lat=None, lon=None, ele=None),\n",
       " Data(created_epoch=1541032002, created_at='2018-11-01T00:26:42Z', updated_at=None, value='0.0368', completed_at=None, feed_id=900018, expiration='2018-12-31T00:26:42Z', position=None, id='0E0FZADD7C47MKYXRJBZKGYA1Y', lat=None, lon=None, ele=None),\n",
       " Data(created_epoch=1541031884, created_at='2018-11-01T00:24:44Z', updated_at=None, value='0.0368', completed_at=None, feed_id=900018, expiration='2018-12-31T00:24:44Z', position=None, id='0E0FZ99CRMGPHX9QYWYAKWW4X0', lat=None, lon=None, ele=None),\n",
       " Data(created_epoch=1541031798, created_at='2018-11-01T00:23:18Z', updated_at=None, value='0.0299', completed_at=None, feed_id=900018, expiration='2018-12-31T00:23:18Z', position=None, id='0E0FZ8F2N7F5VTQEFTMACR490P', lat=None, lon=None, ele=None),\n",
       " Data(created_epoch=1541023654, created_at='2018-10-31T22:07:34Z', updated_at=None, value='0.1515', completed_at=None, feed_id=900018, expiration='2018-12-30T22:07:34Z', position=None, id='0E0FWTSJB5WV90FHF2ZW4EZMYQ', lat=None, lon=None, ele=None),\n",
       " Data(created_epoch=1541023403, created_at='2018-10-31T22:03:23Z', updated_at=None, value='0.1217', completed_at=None, feed_id=900018, expiration='2018-12-30T22:03:23Z', position=None, id='0E0FWRD7BA2K801CCQSX6YGSV5', lat=None, lon=None, ele=None),\n",
       " Data(created_epoch=1541022989, created_at='2018-10-31T21:56:29Z', updated_at=None, value='0.039', completed_at=None, feed_id=900018, expiration='2018-12-30T21:56:29Z', position=None, id='0E0FWMERBRE9Z893KRMHH3SAZ5', lat=None, lon=None, ele=None),\n",
       " Data(created_epoch=1541022901, created_at='2018-10-31T21:55:01Z', updated_at=None, value='0.039', completed_at=None, feed_id=900018, expiration='2018-12-30T21:55:01Z', position=None, id='0E0FWKKTY9GSRBMX1S3FZQQCVC', lat=None, lon=None, ele=None),\n",
       " Data(created_epoch=1541022828, created_at='2018-10-31T21:53:48Z', updated_at=None, value='0.039', completed_at=None, feed_id=900018, expiration='2018-12-30T21:53:48Z', position=None, id='0E0FWJXPQ2YWQ4JE2PH9DBXCGS', lat=None, lon=None, ele=None),\n",
       " Data(created_epoch=1541022728, created_at='2018-10-31T21:52:08Z', updated_at=None, value='0.0276', completed_at=None, feed_id=900018, expiration='2018-12-30T21:52:08Z', position=None, id='0E0FWHZ7AN0HCC8F2CX6C15SQP', lat=None, lon=None, ele=None),\n",
       " Data(created_epoch=1541022305, created_at='2018-10-31T21:45:05Z', updated_at=None, value='0.0', completed_at=None, feed_id=900018, expiration='2018-12-30T21:45:05Z', position=None, id='0E0FWDXW9M73S11961HA3B51KC', lat=None, lon=None, ele=None),\n",
       " Data(created_epoch=1541016049, created_at='2018-10-31T20:00:49Z', updated_at=None, value='0.0069', completed_at=None, feed_id=900018, expiration='2018-12-30T20:00:49Z', position=None, id='0E0FTJ8Y9Y7M0RWA042F2MSSTV', lat=None, lon=None, ele=None),\n",
       " Data(created_epoch=1541015978, created_at='2018-10-31T19:59:38Z', updated_at=None, value='0.0276', completed_at=None, feed_id=900018, expiration='2018-12-30T19:59:38Z', position=None, id='0E0FTHK66EBT5C4M8AHVYWZD5X', lat=None, lon=None, ele=None),\n",
       " Data(created_epoch=1541015817, created_at='2018-10-31T19:56:57Z', updated_at=None, value='0.0046', completed_at=None, feed_id=900018, expiration='2018-12-30T19:56:57Z', position=None, id='0E0FTG1W0M5EE4YM7MWX6QX9PE', lat=None, lon=None, ele=None),\n",
       " Data(created_epoch=1541015237, created_at='2018-10-31T19:47:17Z', updated_at=None, value='0.0023', completed_at=None, feed_id=900018, expiration='2018-12-30T19:47:17Z', position=None, id='0E0FTAGWTN69071XZAKBB3RJK0', lat=None, lon=None, ele=None),\n",
       " Data(created_epoch=1541015113, created_at='2018-10-31T19:45:13Z', updated_at=None, value='0.0161', completed_at=None, feed_id=900018, expiration='2018-12-30T19:45:13Z', position=None, id='0E0FT9B5R0NGK5JJ9YNMJXYZ5R', lat=None, lon=None, ele=None),\n",
       " Data(created_epoch=1541014994, created_at='2018-10-31T19:43:14Z', updated_at=None, value='0.0253', completed_at=None, feed_id=900018, expiration='2018-12-30T19:43:14Z', position=None, id='0E0FT86Z9Y84SZA1P7WEZJNFP0', lat=None, lon=None, ele=None),\n",
       " Data(created_epoch=1541014581, created_at='2018-10-31T19:36:21Z', updated_at=None, value='0.0322', completed_at=None, feed_id=900018, expiration='2018-12-30T19:36:21Z', position=None, id='0E0FT48QASRMKQD3C0YPQ36DBM', lat=None, lon=None, ele=None),\n",
       " Data(created_epoch=1541014517, created_at='2018-10-31T19:35:17Z', updated_at=None, value='0.0322', completed_at=None, feed_id=900018, expiration='2018-12-30T19:35:17Z', position=None, id='0E0FT3NDZ5N3BFY5JYHZWY35SP', lat=None, lon=None, ele=None),\n",
       " Data(created_epoch=1541014411, created_at='2018-10-31T19:33:31Z', updated_at=None, value='0.1747', completed_at=None, feed_id=900018, expiration='2018-12-30T19:33:31Z', position=None, id='0E0FT2MWTBF6PMPK7CDW4H8AGD', lat=None, lon=None, ele=None),\n",
       " Data(created_epoch=1541014161, created_at='2018-10-31T19:29:21Z', updated_at=None, value='0.0712', completed_at=None, feed_id=900018, expiration='2018-12-30T19:29:21Z', position=None, id='0E0FT08M98NM021Q56J2B7YYP6', lat=None, lon=None, ele=None),\n",
       " Data(created_epoch=1541013519, created_at='2018-10-31T19:18:39Z', updated_at=None, value='0.0184', completed_at=None, feed_id=900018, expiration='2018-12-30T19:18:39Z', position=None, id='0E0FST4NKB0SK9GGJNJ80GNAQ7', lat=None, lon=None, ele=None),\n",
       " Data(created_epoch=1541013429, created_at='2018-10-31T19:17:09Z', updated_at=None, value='0.1908', completed_at=None, feed_id=900018, expiration='2018-12-30T19:17:09Z', position=None, id='0E0FSS9CKW3ACNWE3XB6NPSJY5', lat=None, lon=None, ele=None),\n",
       " Data(created_epoch=1541012998, created_at='2018-10-31T19:09:58Z', updated_at=None, value='0.1033', completed_at=None, feed_id=900018, expiration='2018-12-30T19:09:58Z', position=None, id='0E0FSN5QVB211SRY0YKZZQZQXX', lat=None, lon=None, ele=None),\n",
       " Data(created_epoch=1541012631, created_at='2018-10-31T19:03:51Z', updated_at=None, value='0.0758', completed_at=None, feed_id=900018, expiration='2018-12-30T19:03:51Z', position=None, id='0E0FSHNRSN3K151JM6ZD2CW1CC', lat=None, lon=None, ele=None),\n",
       " Data(created_epoch=1540851050, created_at='2018-10-29T22:10:50Z', updated_at=None, value='0.0', completed_at=None, feed_id=900018, expiration='2018-12-28T22:10:50Z', position=None, id='0E0E9CQ18VXEFMWC4KB7NPS4G6', lat=None, lon=None, ele=None),\n",
       " Data(created_epoch=1540850778, created_at='2018-10-29T22:06:18Z', updated_at=None, value='0.0023', completed_at=None, feed_id=900018, expiration='2018-12-28T22:06:18Z', position=None, id='0E0E9A4591NTGRHY086FKC9CDH', lat=None, lon=None, ele=None),\n",
       " Data(created_epoch=1540850684, created_at='2018-10-29T22:04:44Z', updated_at=None, value='0.0023', completed_at=None, feed_id=900018, expiration='2018-12-28T22:04:44Z', position=None, id='0E0E9979PVEXTA5WT4QSS4XTST', lat=None, lon=None, ele=None),\n",
       " Data(created_epoch=1540850592, created_at='2018-10-29T22:03:12Z', updated_at=None, value='0.0253', completed_at=None, feed_id=900018, expiration='2018-12-28T22:03:12Z', position=None, id='0E0E98BANSB8G7N797B2VHGV29', lat=None, lon=None, ele=None),\n",
       " Data(created_epoch=1540850300, created_at='2018-10-29T21:58:20Z', updated_at=None, value='0.0138', completed_at=None, feed_id=900018, expiration='2018-12-28T21:58:20Z', position=None, id='0E0E95J8EZBNS8X2MVQ34PSGAQ', lat=None, lon=None, ele=None),\n",
       " Data(created_epoch=1540850183, created_at='2018-10-29T21:56:23Z', updated_at=None, value='0.0138', completed_at=None, feed_id=900018, expiration='2018-12-28T21:56:23Z', position=None, id='0E0E94EFW7DC1YN5QME5CJECCM', lat=None, lon=None, ele=None),\n",
       " Data(created_epoch=1540849678, created_at='2018-10-29T21:47:58Z', updated_at=None, value='0.0', completed_at=None, feed_id=900018, expiration='2018-12-28T21:47:58Z', position=None, id='0E0E8ZM917335RPP9V3AVCJEFE', lat=None, lon=None, ele=None),\n",
       " Data(created_epoch=1540848942, created_at='2018-10-29T21:35:42Z', updated_at=None, value='0.0', completed_at=None, feed_id=900018, expiration='2018-12-28T21:35:42Z', position=None, id='0E0E8RKWBN2VF4FEHZ5ZA2TNMN', lat=None, lon=None, ele=None),\n",
       " Data(created_epoch=1540848652, created_at='2018-10-29T21:30:52Z', updated_at=None, value='0.0', completed_at=None, feed_id=900018, expiration='2018-12-28T21:30:52Z', position=None, id='0E0E8NVDF8WE34DBFBGAQQ05HQ', lat=None, lon=None, ele=None),\n",
       " Data(created_epoch=1540848345, created_at='2018-10-29T21:25:45Z', updated_at=None, value='0.1606', completed_at=None, feed_id=900018, expiration='2018-12-28T21:25:45Z', position=None, id='0E0E8JXN3THS5QTPAAP8Y1ZGT5', lat=None, lon=None, ele=None),\n",
       " Data(created_epoch=1540847258, created_at='2018-10-29T21:07:38Z', updated_at=None, value='0.1606', completed_at=None, feed_id=900018, expiration='2018-12-28T21:07:38Z', position=None, id='0E0E88HQZ0PSJDHV3H9WT58A7K', lat=None, lon=None, ele=None),\n",
       " Data(created_epoch=1540845001, created_at='2018-10-29T20:30:01Z', updated_at=None, value='0.1606', completed_at=None, feed_id=900018, expiration='2018-12-28T20:30:01Z', position=None, id='0E0E7K17A9JCT5JNFR0DGCQKAY', lat=None, lon=None, ele=None),\n",
       " Data(created_epoch=1540844555, created_at='2018-10-29T20:22:35Z', updated_at=None, value='0.0', completed_at=None, feed_id=900018, expiration='2018-12-28T20:22:35Z', position=None, id='0E0E7ES2D0SKD29C54EHGQBMSH', lat=None, lon=None, ele=None),\n",
       " Data(created_epoch=1540844454, created_at='2018-10-29T20:20:54Z', updated_at=None, value='0.0', completed_at=None, feed_id=900018, expiration='2018-12-28T20:20:54Z', position=None, id='0E0E7DT7FBYE1CPC5TE6MHF01A', lat=None, lon=None, ele=None),\n",
       " Data(created_epoch=1540844419, created_at='2018-10-29T20:20:19Z', updated_at=None, value='0.0', completed_at=None, feed_id=900018, expiration='2018-12-28T20:20:19Z', position=None, id='0E0E7DFKE7KQNFPVFH069AR86E', lat=None, lon=None, ele=None),\n",
       " Data(created_epoch=1540844306, created_at='2018-10-29T20:18:26Z', updated_at=None, value='0.0', completed_at=None, feed_id=900018, expiration='2018-12-28T20:18:26Z', position=None, id='0E0E7CCXREZ9W8DSVA8TGMWK4C', lat=None, lon=None, ele=None),\n",
       " Data(created_epoch=1540844182, created_at='2018-10-29T20:16:22Z', updated_at=None, value='0.0', completed_at=None, feed_id=900018, expiration='2018-12-28T20:16:22Z', position=None, id='0E0E7B795ZGEWDEK03MA21VXYG', lat=None, lon=None, ele=None),\n",
       " Data(created_epoch=1540835856, created_at='2018-10-29T17:57:36Z', updated_at=None, value='0.1538', completed_at=None, feed_id=900018, expiration='2018-12-28T17:57:36Z', position=None, id='0E0E4VTA31YHFQ9PHQGQKVD8ET', lat=None, lon=None, ele=None),\n",
       " Data(created_epoch=1540834037, created_at='2018-10-29T17:27:17Z', updated_at=None, value='0.1447', completed_at=None, feed_id=900018, expiration='2018-12-28T17:27:17Z', position=None, id='0E0E4AF0VFD3WP1C3098E4PEB3', lat=None, lon=None, ele=None),\n",
       " Data(created_epoch=1540833891, created_at='2018-10-29T17:24:51Z', updated_at=None, value='0.1332', completed_at=None, feed_id=900018, expiration='2018-12-28T17:24:51Z', position=None, id='0E0E492EZH3VNQD0P67T01DEZQ', lat=None, lon=None, ele=None),\n",
       " Data(created_epoch=1540832997, created_at='2018-10-29T17:09:57Z', updated_at=None, value='0.0873', completed_at=None, feed_id=900018, expiration='2018-12-28T17:09:57Z', position=None, id='0E0E40HSWE37RGEWE62CV39WGJ', lat=None, lon=None, ele=None),\n",
       " Data(created_epoch=1540784286, created_at='2018-10-29T03:38:06Z', updated_at=None, value='0.0322', completed_at=None, feed_id=900018, expiration='2018-12-28T03:38:06Z', position=None, id='0E0DNG07MJCFJG0BDDCJNRQWR3', lat=None, lon=None, ele=None),\n",
       " Data(created_epoch=1540783995, created_at='2018-10-29T03:33:15Z', updated_at=None, value='0.023', completed_at=None, feed_id=900018, expiration='2018-12-28T03:33:15Z', position=None, id='0E0DND7FGD3N2A45Y1S1CW73M5', lat=None, lon=None, ele=None),\n",
       " Data(created_epoch=1540753976, created_at='2018-10-28T19:12:56Z', updated_at=None, value='0.023', completed_at=None, feed_id=900018, expiration='2018-12-27T19:12:56Z', position=None, id='0E0DCEYJHSFYFZZFVNKACPG9JP', lat=None, lon=None, ele=None),\n",
       " Data(created_epoch=1540753864, created_at='2018-10-28T19:11:04Z', updated_at=None, value='0.0115', completed_at=None, feed_id=900018, expiration='2018-12-27T19:11:04Z', position=None, id='0E0DCDW7JJBMBZ6H8P14K1N71M', lat=None, lon=None, ele=None),\n",
       " Data(created_epoch=1540697590, created_at='2018-10-28T03:33:10Z', updated_at=None, value='0.0184', completed_at=None, feed_id=900018, expiration='2018-12-27T03:33:10Z', position=None, id='0E0CVN6QGAE69GF2R8JYY8D020', lat=None, lon=None, ele=None),\n",
       " Data(created_epoch=1540697480, created_at='2018-10-28T03:31:20Z', updated_at=None, value='0', completed_at=None, feed_id=900018, expiration='2018-12-27T03:31:20Z', position=None, id='0E0CVM55NN1FQCSC1NJWQ9M6W8', lat=None, lon=None, ele=None)]"
      ]
     },
     "execution_count": 70,
     "metadata": {},
     "output_type": "execute_result"
    }
   ],
   "source": [
    "allData"
   ]
  },
  {
   "cell_type": "code",
   "execution_count": 83,
   "metadata": {},
   "outputs": [
    {
     "name": "stdout",
     "output_type": "stream",
     "text": [
      "['2018-11-01', '12:09:45Z']\n",
      "['2018-11-01', '11:44:00Z']\n",
      "['2018-11-01', '11:41:21Z']\n",
      "['2018-11-01', '11:38:35Z']\n",
      "['2018-11-01', '11:36:42Z']\n",
      "['2018-11-01', '00:56:17Z']\n",
      "['2018-11-01', '00:41:16Z']\n",
      "['2018-11-01', '00:33:13Z']\n",
      "['2018-11-01', '00:32:19Z']\n",
      "['2018-11-01', '00:31:13Z']\n",
      "['2018-11-01', '00:27:37Z']\n",
      "['2018-11-01', '00:26:42Z']\n",
      "['2018-11-01', '00:24:44Z']\n",
      "['2018-11-01', '00:23:18Z']\n",
      "['2018-10-31', '22:07:34Z']\n",
      "['2018-10-31', '22:03:23Z']\n",
      "['2018-10-31', '21:56:29Z']\n",
      "['2018-10-31', '21:55:01Z']\n",
      "['2018-10-31', '21:53:48Z']\n",
      "['2018-10-31', '21:52:08Z']\n",
      "['2018-10-31', '21:45:05Z']\n",
      "['2018-10-31', '20:00:49Z']\n",
      "['2018-10-31', '19:59:38Z']\n",
      "['2018-10-31', '19:56:57Z']\n",
      "['2018-10-31', '19:47:17Z']\n",
      "['2018-10-31', '19:45:13Z']\n",
      "['2018-10-31', '19:43:14Z']\n",
      "['2018-10-31', '19:36:21Z']\n",
      "['2018-10-31', '19:35:17Z']\n",
      "['2018-10-31', '19:33:31Z']\n",
      "['2018-10-31', '19:29:21Z']\n",
      "['2018-10-31', '19:18:39Z']\n",
      "['2018-10-31', '19:17:09Z']\n",
      "['2018-10-31', '19:09:58Z']\n",
      "['2018-10-31', '19:03:51Z']\n",
      "['2018-10-29', '22:10:50Z']\n",
      "['2018-10-29', '22:06:18Z']\n",
      "['2018-10-29', '22:04:44Z']\n",
      "['2018-10-29', '22:03:12Z']\n",
      "['2018-10-29', '21:58:20Z']\n",
      "['2018-10-29', '21:56:23Z']\n",
      "['2018-10-29', '21:47:58Z']\n",
      "['2018-10-29', '21:35:42Z']\n",
      "['2018-10-29', '21:30:52Z']\n",
      "['2018-10-29', '21:25:45Z']\n",
      "['2018-10-29', '21:07:38Z']\n",
      "['2018-10-29', '20:30:01Z']\n",
      "['2018-10-29', '20:22:35Z']\n",
      "['2018-10-29', '20:20:54Z']\n",
      "['2018-10-29', '20:20:19Z']\n",
      "['2018-10-29', '20:18:26Z']\n",
      "['2018-10-29', '20:16:22Z']\n",
      "['2018-10-29', '17:57:36Z']\n",
      "['2018-10-29', '17:27:17Z']\n",
      "['2018-10-29', '17:24:51Z']\n",
      "['2018-10-29', '17:09:57Z']\n",
      "['2018-10-29', '03:38:06Z']\n",
      "['2018-10-29', '03:33:15Z']\n",
      "['2018-10-28', '19:12:56Z']\n",
      "['2018-10-28', '19:11:04Z']\n",
      "['2018-10-28', '03:33:10Z']\n",
      "['2018-10-28', '03:31:20Z']\n"
     ]
    }
   ],
   "source": [
    "tCreated_ats=[]\n",
    "tDates=[]\n",
    "tTimes=[]\n",
    "tIDs = []\n",
    "tValues=[]\n",
    "for x in allData:\n",
    "    tCreated_ats.append(x.created_at)\n",
    "    tS=x.created_at.split('T')\n",
    "    tDates.append(tS[0])\n",
    "    tTimes.append(tS[1])\n",
    "    tIDs.append(x.id)\n",
    "    tValues.append(float(x.value))\n",
    "\n",
    "tempArray = []\n",
    "varIndex = ['created_at','Date','Time','id','value']\n",
    "newDF = pd.DataFrame(tempArray,columns = varIndex)\n"
   ]
  },
  {
   "cell_type": "code",
   "execution_count": 73,
   "metadata": {},
   "outputs": [
    {
     "name": "stdout",
     "output_type": "stream",
     "text": [
      "None\n"
     ]
    }
   ],
   "source": [
    "print(a.sort())"
   ]
  },
  {
   "cell_type": "code",
   "execution_count": 75,
   "metadata": {},
   "outputs": [
    {
     "data": {
      "text/plain": [
       "list"
      ]
     },
     "execution_count": 75,
     "metadata": {},
     "output_type": "execute_result"
    }
   ],
   "source": [
    "type(allData.)"
   ]
  },
  {
   "cell_type": "code",
   "execution_count": 55,
   "metadata": {},
   "outputs": [],
   "source": [
    "testValues = []\n",
    "for x in allData:\n",
    "    testValues.append(float(x.value))"
   ]
  },
  {
   "cell_type": "code",
   "execution_count": 56,
   "metadata": {},
   "outputs": [
    {
     "data": {
      "text/plain": [
       "[0.0023,\n",
       " 0.1191,\n",
       " 0.1123,\n",
       " 0.1077,\n",
       " 0.1031,\n",
       " 0.0894,\n",
       " 0.0504,\n",
       " 0.0436,\n",
       " 0.039,\n",
       " 0.039,\n",
       " 0.0368,\n",
       " 0.0368,\n",
       " 0.0368,\n",
       " 0.0299,\n",
       " 0.1515,\n",
       " 0.1217,\n",
       " 0.039,\n",
       " 0.039,\n",
       " 0.039,\n",
       " 0.0276,\n",
       " 0.0,\n",
       " 0.0069,\n",
       " 0.0276,\n",
       " 0.0046,\n",
       " 0.0023,\n",
       " 0.0161,\n",
       " 0.0253,\n",
       " 0.0322,\n",
       " 0.0322,\n",
       " 0.1747,\n",
       " 0.0712,\n",
       " 0.0184,\n",
       " 0.1908,\n",
       " 0.1033,\n",
       " 0.0758,\n",
       " 0.0,\n",
       " 0.0023,\n",
       " 0.0023,\n",
       " 0.0253,\n",
       " 0.0138,\n",
       " 0.0138,\n",
       " 0.0,\n",
       " 0.0,\n",
       " 0.0,\n",
       " 0.1606,\n",
       " 0.1606,\n",
       " 0.1606,\n",
       " 0.0,\n",
       " 0.0,\n",
       " 0.0,\n",
       " 0.0,\n",
       " 0.0,\n",
       " 0.1538,\n",
       " 0.1447,\n",
       " 0.1332,\n",
       " 0.0873,\n",
       " 0.0322,\n",
       " 0.023,\n",
       " 0.023,\n",
       " 0.0115,\n",
       " 0.0184,\n",
       " 0.0]"
      ]
     },
     "execution_count": 56,
     "metadata": {},
     "output_type": "execute_result"
    }
   ],
   "source": [
    "testValues"
   ]
  },
  {
   "cell_type": "code",
   "execution_count": 61,
   "metadata": {},
   "outputs": [
    {
     "name": "stdout",
     "output_type": "stream",
     "text": [
      "4\n",
      "8\n"
     ]
    }
   ],
   "source": [
    "# this is how we look at feeds containing something (simple list enumeration)\n",
    "for idx, val in enumerate(feedList):\n",
    "    if 'weight' in val:\n",
    "        print(idx)"
   ]
  }
 ],
 "metadata": {
  "kernelspec": {
   "display_name": "Python 3",
   "language": "python",
   "name": "python3"
  },
  "language_info": {
   "codemirror_mode": {
    "name": "ipython",
    "version": 3
   },
   "file_extension": ".py",
   "mimetype": "text/x-python",
   "name": "python",
   "nbconvert_exporter": "python",
   "pygments_lexer": "ipython3",
   "version": "3.6.6"
  }
 },
 "nbformat": 4,
 "nbformat_minor": 2
}
