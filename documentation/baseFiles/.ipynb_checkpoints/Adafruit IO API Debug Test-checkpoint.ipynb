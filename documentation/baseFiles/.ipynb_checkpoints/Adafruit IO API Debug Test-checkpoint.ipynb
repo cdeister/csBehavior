{
 "cells": [
  {
   "cell_type": "markdown",
   "metadata": {},
   "source": [
    "# Testing Adafruit IO API\n",
    "#### https://adafruit-io-python-client.readthedocs.io/en/latest/index.html"
   ]
  },
  {
   "cell_type": "code",
   "execution_count": 1,
   "metadata": {},
   "outputs": [],
   "source": [
    "import datetime\n",
    "from Adafruit_IO import *"
   ]
  },
  {
   "cell_type": "code",
   "execution_count": 2,
   "metadata": {},
   "outputs": [],
   "source": [
    "import pandas as pd"
   ]
  },
  {
   "cell_type": "code",
   "execution_count": 3,
   "metadata": {},
   "outputs": [],
   "source": [
    "dStamp=datetime.datetime.now().strftime(\"%m_%d_%Y\")\n",
    "hashPath = '/Users/cad/simpHashes/csIO.txt'"
   ]
  },
  {
   "cell_type": "code",
   "execution_count": 4,
   "metadata": {},
   "outputs": [],
   "source": [
    "def connect_REST(hashPath):\n",
    "    simpHash=open(hashPath)\n",
    "    a=list(simpHash)\n",
    "    userName = a[0].strip()\n",
    "    apiKey = a[1]\n",
    "    restClient = Client(userName,apiKey)\n",
    "    return restClient\n",
    "    \n",
    "def connect_MQTT(hashPath):\n",
    "    simpHash=open(hashPath)\n",
    "    a=list(simpHash)\n",
    "    userName = a[0].strip()\n",
    "    apiKey = a[1]\n",
    "    mqttClient = MQTTClient(userName,apiKey)\n",
    "    return mqttClient"
   ]
  },
  {
   "cell_type": "code",
   "execution_count": 5,
   "metadata": {},
   "outputs": [],
   "source": [
    "aio=connect_REST(hashPath)"
   ]
  },
  {
   "cell_type": "code",
   "execution_count": 6,
   "metadata": {},
   "outputs": [],
   "source": [
    "# check all the feeds\n",
    "# This will make a list of all feeds.\n",
    "allFeeds = aio.feeds()"
   ]
  },
  {
   "cell_type": "code",
   "execution_count": 7,
   "metadata": {},
   "outputs": [
    {
     "name": "stdout",
     "output_type": "stream",
     "text": [
      "[Feed(name='rig-cadbook', key='rig-cadbook', description=None, unit_type=None, unit_symbol=None, history=True, visibility='private', license=None, status_notify=False, status_timeout=60), Feed(name='cad-rig', key='cad-rig', description=None, unit_type=None, unit_symbol=None, history=True, visibility='private', license=None, status_notify=False, status_timeout=60), Feed(name='cad-waterconsumed', key='cad-waterconsumed', description=None, unit_type=None, unit_symbol=None, history=True, visibility='private', license=None, status_notify=False, status_timeout=60), Feed(name='cad-topvol', key='cad-topvol', description=None, unit_type=None, unit_symbol=None, history=True, visibility='private', license=None, status_notify=False, status_timeout=60), Feed(name='cad-weight', key='cad-weight', description=None, unit_type=None, unit_symbol=None, history=True, visibility='private', license=None, status_notify=False, status_timeout=60), Feed(name='cad2-rig', key='cad2-rig', description=None, unit_type=None, unit_symbol=None, history=True, visibility='private', license=None, status_notify=False, status_timeout=60), Feed(name='cad2-waterconsumed', key='cad2-waterconsumed', description=None, unit_type=None, unit_symbol=None, history=True, visibility='private', license=None, status_notify=False, status_timeout=60), Feed(name='cad2-topvol', key='cad2-topvol', description=None, unit_type=None, unit_symbol=None, history=True, visibility='private', license=None, status_notify=False, status_timeout=60), Feed(name='cad2-weight', key='cad2-weight', description=None, unit_type=None, unit_symbol=None, history=True, visibility='private', license=None, status_notify=False, status_timeout=60), Feed(name='newFeed', key='newfeed', description=None, unit_type=None, unit_symbol=None, history=True, visibility='private', license=None, status_notify=False, status_timeout=60), Feed(name='cadbook', key='cadbook', description=None, unit_type=None, unit_symbol=None, history=True, visibility='private', license=None, status_notify=False, status_timeout=60), Feed(name='rig-ubuntu', key='rig-ubuntu', description=None, unit_type=None, unit_symbol=None, history=True, visibility='private', license=None, status_notify=False, status_timeout=60)]\n"
     ]
    }
   ],
   "source": [
    "print(allFeeds)"
   ]
  },
  {
   "cell_type": "code",
   "execution_count": 8,
   "metadata": {},
   "outputs": [
    {
     "name": "stdout",
     "output_type": "stream",
     "text": [
      "['rig-cadbook', 'cad-rig', 'cad-waterconsumed', 'cad-topvol', 'cad-weight', 'cad2-rig', 'cad2-waterconsumed', 'cad2-topvol', 'cad2-weight', 'newFeed', 'cadbook', 'rig-ubuntu']\n"
     ]
    }
   ],
   "source": [
    "feedList = []\n",
    "for things in allFeeds:\n",
    "    feedList.append(things.name)\n",
    "print(feedList)"
   ]
  },
  {
   "cell_type": "code",
   "execution_count": 9,
   "metadata": {},
   "outputs": [
    {
     "name": "stdout",
     "output_type": "stream",
     "text": [
      "Feed(name='cad-rig', key='cad-rig', description=None, unit_type=None, unit_symbol=None, history=True, visibility='private', license=None, status_notify=False, status_timeout=60)\n"
     ]
    }
   ],
   "source": [
    "# let's see what a feed's metadata contains.\n",
    "print(allFeeds[1])"
   ]
  },
  {
   "cell_type": "markdown",
   "metadata": {},
   "source": [
    "#### The name is needed to create the feed, but the key is how it is addressed later. By default, the API will respect formating of text, but not the key. So, keep this in mind. "
   ]
  },
  {
   "cell_type": "code",
   "execution_count": 10,
   "metadata": {},
   "outputs": [
    {
     "name": "stdout",
     "output_type": "stream",
     "text": [
      "Feed(name='cad-rig', key='cad-rig', description=None, unit_type=None, unit_symbol=None, history=True, visibility='private', license=None, status_notify=False, status_timeout=60)\n"
     ]
    }
   ],
   "source": [
    "thisFeed = aio.feeds('cad-rig')\n",
    "print(thisFeed)"
   ]
  },
  {
   "cell_type": "code",
   "execution_count": 11,
   "metadata": {},
   "outputs": [],
   "source": [
    "# lets create a feed with an uppercase char, this is ok\n",
    "feedName = \"asciiFeed\"\n",
    "feed = Feed(feedName)\n",
    "createResult = aio.create_feed(feed)"
   ]
  },
  {
   "cell_type": "code",
   "execution_count": 12,
   "metadata": {},
   "outputs": [
    {
     "name": "stdout",
     "output_type": "stream",
     "text": [
      "Feed(name='asciiFeed', key='asciifeed', description=None, unit_type=None, unit_symbol=None, history=True, visibility='private', license=None, status_notify=False, status_timeout=60)\n"
     ]
    }
   ],
   "source": [
    "print(createResult)"
   ]
  },
  {
   "cell_type": "code",
   "execution_count": 13,
   "metadata": {},
   "outputs": [
    {
     "name": "stdout",
     "output_type": "stream",
     "text": [
      "Feed(name='asciiFeed', key='asciifeed', description=None, unit_type=None, unit_symbol=None, history=True, visibility='private', license=None, status_notify=False, status_timeout=60)\n"
     ]
    }
   ],
   "source": [
    "# but to access it, we have to ask for lowercase only, because note above the key is lowercase\n",
    "thisFeed = aio.feeds(feedName.lower())\n",
    "print(thisFeed)"
   ]
  },
  {
   "cell_type": "code",
   "execution_count": 14,
   "metadata": {},
   "outputs": [],
   "source": [
    "# now let's delete the feed\n",
    "feed = aio.delete_feed(feedName.lower())"
   ]
  },
  {
   "cell_type": "code",
   "execution_count": 15,
   "metadata": {},
   "outputs": [],
   "source": [
    "# now let's get a feed's data\n",
    "allData = aio.data('cad-waterconsumed')"
   ]
  },
  {
   "cell_type": "code",
   "execution_count": 22,
   "metadata": {},
   "outputs": [
    {
     "data": {
      "text/plain": [
       "Data(created_epoch=1541074185, created_at='2018-11-01T12:09:45Z', updated_at=None, value='0.0023', completed_at=None, feed_id=900018, expiration='2018-12-31T12:09:45Z', position=None, id='0E0GBWPMZ6P21VPNKV1KB4Q75N', lat=None, lon=None, ele=None)"
      ]
     },
     "execution_count": 22,
     "metadata": {},
     "output_type": "execute_result"
    }
   ],
   "source": [
    "allData[0]"
   ]
  },
  {
   "cell_type": "code",
   "execution_count": 29,
   "metadata": {},
   "outputs": [],
   "source": [
    "# The list of subject feeds are:\n",
    "# -rig,-task,-waterconsumed,-targetconsumption,-weight,-performance\n",
    "def makeSubjectFeeds(subjectID,mqttClient):\n",
    "    subFeedLabels = ['rig','task','waterconsumed','targetconsumption','weight','performance']\n",
    "    for x in subFeedLabels:\n",
    "        feedStr = subjectID.lower() + '-' + x\n",
    "        feed = Feed(name = feedStr)\n",
    "        try:\n",
    "            mqttClient.create_feed(feed)\n",
    "            print(\"did make feed:{}\".format(feedStr))\n",
    "        except:\n",
    "            print(\"did not make feed: {}\".format(feedStr))"
   ]
  },
  {
   "cell_type": "code",
   "execution_count": 31,
   "metadata": {},
   "outputs": [
    {
     "name": "stdout",
     "output_type": "stream",
     "text": [
      "did make feed:ci01-rig\n",
      "did make feed:ci01-task\n",
      "did make feed:ci01-waterconsumed\n",
      "did make feed:ci01-targetconsumption\n",
      "did make feed:ci01-weight\n",
      "did make feed:ci01-performance\n"
     ]
    }
   ],
   "source": [
    "makeSubjectFeeds('ci01',aio)"
   ]
  },
  {
   "cell_type": "code",
   "execution_count": 99,
   "metadata": {},
   "outputs": [],
   "source": [
    "# Now let's see how we would make a pandas dataframe from this. \n",
    "curFeedName = 'cad-waterconsumed'\n",
    "tCreated_ats=[]\n",
    "tDates=[]\n",
    "tTimes=[]\n",
    "tIDs = []\n",
    "tValues=[]\n",
    "tFeedNames = []\n",
    "for x in allData:\n",
    "    tCreated_ats.append(x.created_at)\n",
    "    tS=x.created_at.split('T')\n",
    "    tDates.append(tS[0])\n",
    "    tTimes.append(tS[1])\n",
    "    tIDs.append(x.id)\n",
    "    tValues.append(float(x.value))\n",
    "    tFeedNames.append(curFeedName)\n",
    "\n",
    "tempArray = [tFeedNames,tCreated_ats,tDates,tTimes,tIDs,tValues]\n",
    "varIndex = ['feed_name','created_at','date','time','id','value']\n",
    "tempArray=list(list(zip(*tempArray)))\n",
    "newDF = pd.DataFrame(tempArray,columns = varIndex)\n",
    "newDF.to_csv('/Users/cad/testFEEDBU.csv')"
   ]
  },
  {
   "cell_type": "code",
   "execution_count": 20,
   "metadata": {},
   "outputs": [
    {
     "name": "stdout",
     "output_type": "stream",
     "text": [
      "['cad-weight', 'cad2-weight']\n"
     ]
    }
   ],
   "source": [
    "# this is how we look at feeds containing something (simple list enumeration)\n",
    "weightFeeds = []\n",
    "for idx, val in enumerate(feedList):\n",
    "    if 'weight' in val:\n",
    "        weightFeeds.append(feedList[idx])\n",
    "print(weightFeeds)"
   ]
  },
  {
   "cell_type": "code",
   "execution_count": 21,
   "metadata": {},
   "outputs": [
    {
     "name": "stdout",
     "output_type": "stream",
     "text": [
      "['cad', 'cad2']\n"
     ]
    }
   ],
   "source": [
    "# now we can infer the active animals\n",
    "activeAnimals = []\n",
    "for x in weightFeeds:\n",
    "    tA=x.split('-')\n",
    "    activeAnimals.append(tA[0])\n",
    "    \n",
    "print(activeAnimals)\n",
    "    "
   ]
  }
 ],
 "metadata": {
  "kernelspec": {
   "display_name": "Python 3",
   "language": "python",
   "name": "python3"
  },
  "language_info": {
   "codemirror_mode": {
    "name": "ipython",
    "version": 3
   },
   "file_extension": ".py",
   "mimetype": "text/x-python",
   "name": "python",
   "nbconvert_exporter": "python",
   "pygments_lexer": "ipython3",
   "version": "3.6.6"
  }
 },
 "nbformat": 4,
 "nbformat_minor": 2
}
